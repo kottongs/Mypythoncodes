{
  "nbformat": 4,
  "nbformat_minor": 0,
  "metadata": {
    "colab": {
      "name": "statanalysis.ipynb",
      "provenance": [],
      "include_colab_link": true
    },
    "kernelspec": {
      "name": "python3",
      "display_name": "Python 3"
    }
  },
  "cells": [
    {
      "cell_type": "markdown",
      "metadata": {
        "id": "view-in-github",
        "colab_type": "text"
      },
      "source": [
        "<a href=\"https://colab.research.google.com/github/kottongs/Mypythoncodes/blob/master/statanalysis.ipynb\" target=\"_parent\"><img src=\"https://colab.research.google.com/assets/colab-badge.svg\" alt=\"Open In Colab\"/></a>"
      ]
    },
    {
      "cell_type": "code",
      "metadata": {
        "id": "oLsNByxtn5-x",
        "colab_type": "code",
        "colab": {
          "base_uri": "https://localhost:8080/",
          "height": 612
        },
        "outputId": "48ff773c-7776-45ca-e330-0072093e63c3"
      },
      "source": [
        "import pandas as pd\n",
        "import numpy as np\n",
        "from matplotlib import pyplot as plt\n",
        "import seaborn as sb\n",
        "\n",
        "d = {'Name':pd.Series(['Jacob Moses', 'Umar Yakubu', 'Jerry Ali', 'Musa Garba','Garkuwa Ibrahim']),\n",
        "    'Age':pd.Series([27,30,56,17,37]),\n",
        "    'Height':pd.Series([150.45,125.90,180.0,178,180])}\n",
        "df = pd.DataFrame(d) #create dataframe from the dictionary d\n",
        "print(df)\n",
        "print(df.std())\n",
        "print(df.mean())\n",
        "print(df.describe())\n",
        "print('the median value in of the distribution')\n",
        "print('********************************************')\n",
        "print(df.median())\n",
        "print('the mean value in of the distribution')\n",
        "print('********************************************')\n",
        "print(df.mean())\n",
        "print('the mode value in of the distribution')\n",
        "print('********************************************')\n",
        "print(df['Height'].mode())\n"
      ],
      "execution_count": 21,
      "outputs": [
        {
          "output_type": "stream",
          "text": [
            "              Name  Age  Height\n",
            "0      Jacob Moses   27  150.45\n",
            "1      Umar Yakubu   30  125.90\n",
            "2        Jerry Ali   56  180.00\n",
            "3       Musa Garba   17  178.00\n",
            "4  Garkuwa Ibrahim   37  180.00\n",
            "Age       14.536162\n",
            "Height    24.170374\n",
            "dtype: float64\n",
            "Age        33.40\n",
            "Height    162.87\n",
            "dtype: float64\n",
            "             Age      Height\n",
            "count   5.000000    5.000000\n",
            "mean   33.400000  162.870000\n",
            "std    14.536162   24.170374\n",
            "min    17.000000  125.900000\n",
            "25%    27.000000  150.450000\n",
            "50%    30.000000  178.000000\n",
            "75%    37.000000  180.000000\n",
            "max    56.000000  180.000000\n",
            "the median value in of the distribution\n",
            "********************************************\n",
            "Age        30.0\n",
            "Height    178.0\n",
            "dtype: float64\n",
            "the mean value in of the distribution\n",
            "********************************************\n",
            "Age        33.40\n",
            "Height    162.87\n",
            "dtype: float64\n",
            "the mode value in of the distribution\n",
            "********************************************\n",
            "0    180.0\n",
            "dtype: float64\n"
          ],
          "name": "stdout"
        }
      ]
    }
  ]
}